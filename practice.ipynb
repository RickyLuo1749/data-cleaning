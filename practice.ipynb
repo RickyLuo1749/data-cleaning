{
  "cells": [
    {
      "cell_type": "markdown",
      "metadata": {
        "id": "3t7rSb2d54zY"
      },
      "source": [
        "## **載入套件**"
      ]
    },
    {
      "cell_type": "code",
      "execution_count": 1,
      "metadata": {
        "id": "PfQkDUrfl2Vh"
      },
      "outputs": [],
      "source": [
        "import numpy as np\n",
        "import pandas as pd\n",
        "import matplotlib.pyplot as plt\n",
        "from keras import models\n",
        "from keras import layers\n",
        "from sklearn.neural_network import MLPRegressor"
      ]
    },
    {
      "cell_type": "markdown",
      "metadata": {
        "id": "qJW0HfpAld-r"
      },
      "source": [
        "# **資料輸入**"
      ]
    },
    {
      "cell_type": "code",
      "execution_count": 81,
      "metadata": {
        "colab": {
          "base_uri": "https://localhost:8080/",
          "height": 76
        },
        "id": "iw6mV5hXlSyh",
        "outputId": "72c26f63-8dc4-47ac-b337-5fabc22331d5"
      },
      "outputs": [],
      "source": [
        "#from google.colab import files\n",
        "#uploaded=files.upload()"
      ]
    },
    {
      "cell_type": "code",
      "execution_count": 36,
      "metadata": {
        "colab": {
          "base_uri": "https://localhost:8080/",
          "height": 206
        },
        "id": "O8nB0tC8lTCm",
        "outputId": "8b335acf-9bcf-4e90-f0f8-a8b8a19e533c"
      },
      "outputs": [
        {
          "data": {
            "text/html": [
              "<div>\n",
              "<style scoped>\n",
              "    .dataframe tbody tr th:only-of-type {\n",
              "        vertical-align: middle;\n",
              "    }\n",
              "\n",
              "    .dataframe tbody tr th {\n",
              "        vertical-align: top;\n",
              "    }\n",
              "\n",
              "    .dataframe thead th {\n",
              "        text-align: right;\n",
              "    }\n",
              "</style>\n",
              "<table border=\"1\" class=\"dataframe\">\n",
              "  <thead>\n",
              "    <tr style=\"text-align: right;\">\n",
              "      <th></th>\n",
              "      <th>horsepower</th>\n",
              "      <th>mileage</th>\n",
              "      <th>price</th>\n",
              "    </tr>\n",
              "  </thead>\n",
              "  <tbody>\n",
              "    <tr>\n",
              "      <th>0</th>\n",
              "      <td>247</td>\n",
              "      <td>12</td>\n",
              "      <td>66903.0</td>\n",
              "    </tr>\n",
              "    <tr>\n",
              "      <th>1</th>\n",
              "      <td>296</td>\n",
              "      <td>254</td>\n",
              "      <td>84399.0</td>\n",
              "    </tr>\n",
              "    <tr>\n",
              "      <th>2</th>\n",
              "      <td>237</td>\n",
              "      <td>301</td>\n",
              "      <td>97579.0</td>\n",
              "    </tr>\n",
              "    <tr>\n",
              "      <th>3</th>\n",
              "      <td>320</td>\n",
              "      <td>6903</td>\n",
              "      <td>58995.0</td>\n",
              "    </tr>\n",
              "    <tr>\n",
              "      <th>4</th>\n",
              "      <td>201</td>\n",
              "      <td>30707</td>\n",
              "      <td>13324.0</td>\n",
              "    </tr>\n",
              "  </tbody>\n",
              "</table>\n",
              "</div>"
            ],
            "text/plain": [
              "   horsepower  mileage    price\n",
              "0         247       12  66903.0\n",
              "1         296      254  84399.0\n",
              "2         237      301  97579.0\n",
              "3         320     6903  58995.0\n",
              "4         201    30707  13324.0"
            ]
          },
          "execution_count": 36,
          "metadata": {},
          "output_type": "execute_result"
        }
      ],
      "source": [
        "data=pd.read_csv('D:/workspace/usedcars/data/clean/practice.csv',header=0)\n",
        "data.head()"
      ]
    },
    {
      "cell_type": "markdown",
      "metadata": {
        "id": "l4oEpzFX6Dwi"
      },
      "source": [
        "# **資料編碼（標準化）**"
      ]
    },
    {
      "cell_type": "code",
      "execution_count": 3,
      "metadata": {
        "colab": {
          "base_uri": "https://localhost:8080/"
        },
        "id": "FZ2yXOnc5-m1",
        "outputId": "209f2b1d-35a3-422a-de70-65cd69a2165b"
      },
      "outputs": [
        {
          "name": "stdout",
          "output_type": "stream",
          "text": [
            "<class 'pandas.core.frame.DataFrame'>\n",
            "RangeIndex: 1395674 entries, 0 to 1395673\n",
            "Data columns (total 3 columns):\n",
            " #   Column      Non-Null Count    Dtype  \n",
            "---  ------      --------------    -----  \n",
            " 0   horsepower  1395674 non-null  int64  \n",
            " 1   mileage     1395674 non-null  int64  \n",
            " 2   price       1395674 non-null  float64\n",
            "dtypes: float64(1), int64(2)\n",
            "memory usage: 31.9 MB\n"
          ]
        }
      ],
      "source": [
        "data.info()"
      ]
    },
    {
      "cell_type": "code",
      "execution_count": 37,
      "metadata": {
        "colab": {
          "base_uri": "https://localhost:8080/"
        },
        "id": "1vt8mjZG6WPK",
        "outputId": "2e5b7f77-929e-4f24-de32-b9af4b640872"
      },
      "outputs": [
        {
          "name": "stdout",
          "output_type": "stream",
          "text": [
            "<class 'pandas.core.frame.DataFrame'>\n",
            "RangeIndex: 1395674 entries, 0 to 1395673\n",
            "Data columns (total 3 columns):\n",
            " #   Column      Non-Null Count    Dtype  \n",
            "---  ------      --------------    -----  \n",
            " 0   horsepower  1395674 non-null  float32\n",
            " 1   mileage     1395674 non-null  float32\n",
            " 2   price       1395674 non-null  float32\n",
            "dtypes: float32(3)\n",
            "memory usage: 16.0 MB\n"
          ]
        }
      ],
      "source": [
        "data=data.astype(np.float32)\n",
        "data.info()"
      ]
    },
    {
      "cell_type": "code",
      "execution_count": 38,
      "metadata": {
        "id": "x4a2LL_l6cpW"
      },
      "outputs": [],
      "source": [
        "cols_to_norm = ['horsepower', 'mileage', 'price']\n",
        "data[cols_to_norm] = data[cols_to_norm].apply(lambda x: (x - x.min()) / (x.max() - x.min())*0.6+0.2)"
      ]
    },
    {
      "cell_type": "code",
      "execution_count": 39,
      "metadata": {
        "colab": {
          "base_uri": "https://localhost:8080/",
          "height": 206
        },
        "id": "9AhF6Y366jxB",
        "outputId": "8378fb47-0c7b-4876-d9a6-2392468e987f"
      },
      "outputs": [
        {
          "data": {
            "text/html": [
              "<div>\n",
              "<style scoped>\n",
              "    .dataframe tbody tr th:only-of-type {\n",
              "        vertical-align: middle;\n",
              "    }\n",
              "\n",
              "    .dataframe tbody tr th {\n",
              "        vertical-align: top;\n",
              "    }\n",
              "\n",
              "    .dataframe thead th {\n",
              "        text-align: right;\n",
              "    }\n",
              "</style>\n",
              "<table border=\"1\" class=\"dataframe\">\n",
              "  <thead>\n",
              "    <tr style=\"text-align: right;\">\n",
              "      <th></th>\n",
              "      <th>horsepower</th>\n",
              "      <th>mileage</th>\n",
              "      <th>price</th>\n",
              "    </tr>\n",
              "  </thead>\n",
              "  <tbody>\n",
              "    <tr>\n",
              "      <th>0</th>\n",
              "      <td>0.322449</td>\n",
              "      <td>0.200011</td>\n",
              "      <td>0.212518</td>\n",
              "    </tr>\n",
              "    <tr>\n",
              "      <th>1</th>\n",
              "      <td>0.355782</td>\n",
              "      <td>0.200241</td>\n",
              "      <td>0.215804</td>\n",
              "    </tr>\n",
              "    <tr>\n",
              "      <th>2</th>\n",
              "      <td>0.315646</td>\n",
              "      <td>0.200286</td>\n",
              "      <td>0.218279</td>\n",
              "    </tr>\n",
              "    <tr>\n",
              "      <th>3</th>\n",
              "      <td>0.372109</td>\n",
              "      <td>0.206555</td>\n",
              "      <td>0.211033</td>\n",
              "    </tr>\n",
              "    <tr>\n",
              "      <th>4</th>\n",
              "      <td>0.291156</td>\n",
              "      <td>0.229160</td>\n",
              "      <td>0.202456</td>\n",
              "    </tr>\n",
              "  </tbody>\n",
              "</table>\n",
              "</div>"
            ],
            "text/plain": [
              "   horsepower   mileage     price\n",
              "0    0.322449  0.200011  0.212518\n",
              "1    0.355782  0.200241  0.215804\n",
              "2    0.315646  0.200286  0.218279\n",
              "3    0.372109  0.206555  0.211033\n",
              "4    0.291156  0.229160  0.202456"
            ]
          },
          "execution_count": 39,
          "metadata": {},
          "output_type": "execute_result"
        }
      ],
      "source": [
        "data.head()"
      ]
    },
    {
      "cell_type": "markdown",
      "metadata": {
        "id": "FxEO-KIM6qcP"
      },
      "source": [
        "# **擷取分析資料欄位**"
      ]
    },
    {
      "cell_type": "code",
      "execution_count": 40,
      "metadata": {
        "id": "H7fZt9YvbtK7"
      },
      "outputs": [],
      "source": [
        "y=data['price']"
      ]
    },
    {
      "cell_type": "code",
      "execution_count": 41,
      "metadata": {
        "id": "CLtpg4TF6p9W"
      },
      "outputs": [],
      "source": [
        "data =data.drop(['price','mileage'],axis=1)"
      ]
    },
    {
      "cell_type": "markdown",
      "metadata": {
        "id": "aVLYlsf37L7H"
      },
      "source": [
        "# **分割資料：訓練與測試**"
      ]
    },
    {
      "cell_type": "code",
      "execution_count": 42,
      "metadata": {
        "id": "wZenLVVQtWO-"
      },
      "outputs": [],
      "source": [
        "from sklearn.model_selection import train_test_split\n",
        "X_train, X_test, y_train, y_test = train_test_split(data, y,test_size=0.33, random_state=101)"
      ]
    },
    {
      "cell_type": "code",
      "execution_count": 43,
      "metadata": {
        "colab": {
          "base_uri": "https://localhost:8080/"
        },
        "id": "3vHgk6sVrIWK",
        "outputId": "86673aa0-70ec-4015-a19f-53cea33371f3"
      },
      "outputs": [
        {
          "data": {
            "text/plain": [
              "(         horsepower\n",
              " 221378     0.292517\n",
              " 1187885    0.351701\n",
              " 690205     0.310884\n",
              " 856370     0.399320\n",
              " 446657     0.282313\n",
              " ...             ...\n",
              " 311895     0.325850\n",
              " 661055     0.324490\n",
              " 204614     0.250340\n",
              " 1263115    0.338095\n",
              " 1225567    0.263265\n",
              " \n",
              " [935101 rows x 1 columns],\n",
              " 221378     0.204835\n",
              " 1187885    0.202488\n",
              " 690205     0.201249\n",
              " 856370     0.203268\n",
              " 446657     0.203099\n",
              "              ...   \n",
              " 311895     0.204855\n",
              " 661055     0.206776\n",
              " 204614     0.203802\n",
              " 1263115    0.204084\n",
              " 1225567    0.201921\n",
              " Name: price, Length: 935101, dtype: float32)"
            ]
          },
          "execution_count": 43,
          "metadata": {},
          "output_type": "execute_result"
        }
      ],
      "source": [
        "X_train,y_train"
      ]
    },
    {
      "cell_type": "code",
      "execution_count": 44,
      "metadata": {
        "colab": {
          "base_uri": "https://localhost:8080/"
        },
        "id": "o8foSIZ217n4",
        "outputId": "aaccd8a8-32bf-4bf4-f505-2b1035c1c6f5"
      },
      "outputs": [
        {
          "data": {
            "text/plain": [
              "(         horsepower\n",
              " 1123188    0.291156\n",
              " 1337427    0.387075\n",
              " 940159     0.321088\n",
              " 710637     0.270068\n",
              " 110040     0.423129\n",
              " ...             ...\n",
              " 531284     0.440136\n",
              " 554391     0.382313\n",
              " 482037     0.270068\n",
              " 689266     0.292517\n",
              " 762291     0.372109\n",
              " \n",
              " [460573 rows x 1 columns],\n",
              " 1123188    0.202393\n",
              " 1337427    0.202769\n",
              " 940159     0.203129\n",
              " 710637     0.204550\n",
              " 110040     0.206592\n",
              "              ...   \n",
              " 531284     0.209773\n",
              " 554391     0.205169\n",
              " 482037     0.203146\n",
              " 689266     0.204459\n",
              " 762291     0.202957\n",
              " Name: price, Length: 460573, dtype: float32)"
            ]
          },
          "execution_count": 44,
          "metadata": {},
          "output_type": "execute_result"
        }
      ],
      "source": [
        "X_test,y_test"
      ]
    },
    {
      "cell_type": "code",
      "execution_count": 92,
      "metadata": {
        "colab": {
          "base_uri": "https://localhost:8080/"
        },
        "id": "FTXuzSHWusLM",
        "outputId": "14595cda-c90f-41dc-ee0a-eac6a2248663"
      },
      "outputs": [
        {
          "name": "stdout",
          "output_type": "stream",
          "text": [
            "<class 'pandas.core.frame.DataFrame'>\n",
            "Int64Index: 935101 entries, 221378 to 1225567\n",
            "Data columns (total 2 columns):\n",
            " #   Column      Non-Null Count   Dtype  \n",
            "---  ------      --------------   -----  \n",
            " 0   horsepower  935101 non-null  float32\n",
            " 1   mileage     935101 non-null  float32\n",
            "dtypes: float32(2)\n",
            "memory usage: 14.3 MB\n"
          ]
        }
      ],
      "source": [
        "X_train.info()"
      ]
    },
    {
      "cell_type": "markdown",
      "metadata": {
        "id": "IVrV_e44HnD0"
      },
      "source": [
        "# **SVR**"
      ]
    },
    {
      "cell_type": "code",
      "execution_count": 93,
      "metadata": {
        "id": "NN7gdy1l39P8"
      },
      "outputs": [],
      "source": [
        "from sklearn import svm\n",
        "svr = svm.SVR()"
      ]
    },
    {
      "cell_type": "markdown",
      "metadata": {
        "id": "_eA4PqRvHy-f"
      },
      "source": [
        "## **模式執行與評估**"
      ]
    },
    {
      "cell_type": "code",
      "execution_count": 94,
      "metadata": {
        "id": "V0jGSASvHy-g"
      },
      "outputs": [],
      "source": [
        "svr.fit(X_train, y_train)\n",
        "y_pred=svr.predict(X_train)"
      ]
    },
    {
      "cell_type": "code",
      "execution_count": 95,
      "metadata": {
        "colab": {
          "base_uri": "https://localhost:8080/"
        },
        "id": "0G3gftJUHy-g",
        "outputId": "b3d66ed3-ce1e-48bb-e9b3-eb19d2a576c6"
      },
      "outputs": [
        {
          "name": "stdout",
          "output_type": "stream",
          "text": [
            "MSE= 0.00916140808784186\n",
            "RMSE= 0.09571524480375036\n",
            "MAE= 0.09567029808306698\n",
            "R2: -889.1305131598555\n"
          ]
        }
      ],
      "source": [
        "from sklearn.metrics import mean_squared_error\n",
        "from sklearn.metrics import mean_absolute_error\n",
        "from math import sqrt\n",
        "import numpy as np\n",
        "\n",
        "MSE = mean_squared_error(y_train, y_pred)\n",
        "print('MSE=',MSE)\n",
        "RMSE =np.sqrt(MSE)\n",
        "print('RMSE=',RMSE)\n",
        "MAE= mean_absolute_error(y_train, y_pred)\n",
        "print('MAE=',MAE)\n",
        "\n",
        "R2=1-MSE/np.var(y_train)\n",
        "print(\"R2:\", R2)"
      ]
    },
    {
      "cell_type": "markdown",
      "metadata": {
        "id": "id0Bnhm2Hy-g"
      },
      "source": [
        "## **測試結果**"
      ]
    },
    {
      "cell_type": "code",
      "execution_count": 96,
      "metadata": {
        "colab": {
          "base_uri": "https://localhost:8080/"
        },
        "id": "kRrqzUXzHy-g",
        "outputId": "27c04103-9198-44a3-ae18-0495955db868"
      },
      "outputs": [
        {
          "data": {
            "text/plain": [
              "array([0.29982826, 0.30038404, 0.29975672, ..., 0.29963729, 0.29908939,\n",
              "       0.30012557])"
            ]
          },
          "execution_count": 96,
          "metadata": {},
          "output_type": "execute_result"
        }
      ],
      "source": [
        "y_pred=svr.predict(X_test)\n",
        "y_pred"
      ]
    },
    {
      "cell_type": "code",
      "execution_count": 97,
      "metadata": {
        "colab": {
          "base_uri": "https://localhost:8080/"
        },
        "id": "Cp3tRk2MHy-g",
        "outputId": "2161c864-b17e-4d1c-ab17-e0f5708e0f37"
      },
      "outputs": [
        {
          "name": "stdout",
          "output_type": "stream",
          "text": [
            "MSE= 0.009160093701656227\n",
            "RMSE= 0.09570837842977085\n",
            "MAE= 0.09566137466641805\n",
            "R2: -861.206547197077\n"
          ]
        }
      ],
      "source": [
        "from sklearn.metrics import mean_squared_error\n",
        "from sklearn.metrics import mean_absolute_error\n",
        "from math import sqrt\n",
        "import numpy as np\n",
        "\n",
        "MSE = mean_squared_error(y_test, y_pred)\n",
        "print('MSE=',MSE)\n",
        "RMSE =np.sqrt(MSE)\n",
        "print('RMSE=',RMSE)\n",
        "MAE= mean_absolute_error(y_test, y_pred)\n",
        "print('MAE=',MAE)\n",
        "\n",
        "R2=1-MSE/np.var(y_test)\n",
        "print(\"R2:\", R2)\n"
      ]
    },
    {
      "cell_type": "code",
      "execution_count": 98,
      "metadata": {
        "colab": {
          "base_uri": "https://localhost:8080/"
        },
        "id": "ZnZ3NlcYCMno",
        "outputId": "0c83ead8-6e94-4624-f868-9df458b98078"
      },
      "outputs": [
        {
          "data": {
            "text/plain": [
              "array([0.48141718, 0.48140708, 0.47569443, ..., 0.47498788, 0.46283076,\n",
              "       0.47876266])"
            ]
          },
          "execution_count": 98,
          "metadata": {},
          "output_type": "execute_result"
        }
      ],
      "source": [
        "ytest = []\n",
        "for value in y_test:\n",
        "    ytest.append(value)\n",
        "count=0\n",
        "errvalue=abs((ytest-y_pred)/ytest)\n",
        "errvalue"
      ]
    },
    {
      "cell_type": "code",
      "execution_count": 99,
      "metadata": {
        "colab": {
          "base_uri": "https://localhost:8080/"
        },
        "id": "TJhqjPfgG7MQ",
        "outputId": "7fee6f32-c95c-4bee-8555-6cad358a735e"
      },
      "outputs": [
        {
          "name": "stdout",
          "output_type": "stream",
          "text": [
            "通過門檻筆數 2\n",
            "通過門檻百分比 4.342416945847889e-06\n"
          ]
        }
      ],
      "source": [
        "threshold=0.01  #門檻值\n",
        "for i in range(len(errvalue)):\n",
        "  if errvalue[i]<0.01:           \n",
        "    count=count+1\n",
        "print(\"通過門檻筆數\",count)\n",
        "print(\"通過門檻百分比\",count/len(errvalue))"
      ]
    },
    {
      "cell_type": "markdown",
      "metadata": {
        "id": "8v7Kzs_X1s49"
      },
      "source": [
        "# **Nearest Neighbors regression**"
      ]
    },
    {
      "cell_type": "markdown",
      "metadata": {
        "id": "op2c92qz6rue"
      },
      "source": [
        "## **模式執行與評估**"
      ]
    },
    {
      "cell_type": "code",
      "execution_count": 45,
      "metadata": {
        "id": "PXUwMxlA-LSl"
      },
      "outputs": [],
      "source": [
        "from sklearn import neighbors\n",
        "import numpy as np\n",
        "n_neighbors = 5\n",
        "for i, weights in enumerate(['uniform', 'distance']):\n",
        "    knnr = neighbors.KNeighborsRegressor(n_neighbors, weights=weights)"
      ]
    },
    {
      "cell_type": "code",
      "execution_count": 46,
      "metadata": {
        "id": "P6sJx0B-6Z0N"
      },
      "outputs": [],
      "source": [
        "knnr.fit(X_train, y_train)\n",
        "y_pred=knnr.predict(X_train)"
      ]
    },
    {
      "cell_type": "code",
      "execution_count": 47,
      "metadata": {
        "colab": {
          "base_uri": "https://localhost:8080/"
        },
        "id": "Q6kv6eMd8r4H",
        "outputId": "9729df29-b3f8-4047-9d76-7608f3f01afb"
      },
      "outputs": [
        {
          "name": "stdout",
          "output_type": "stream",
          "text": [
            "MSE= 4.565134063739589e-06\n",
            "RMSE= 0.0021366174350453074\n",
            "MAE= 0.0012418291293083477\n",
            "R2: 0.5564475364662742\n"
          ]
        }
      ],
      "source": [
        "from sklearn.metrics import mean_squared_error\n",
        "from sklearn.metrics import mean_absolute_error\n",
        "from math import sqrt\n",
        "import numpy as np\n",
        "\n",
        "MSE = mean_squared_error(y_train, y_pred)\n",
        "print('MSE=',MSE)\n",
        "RMSE =np.sqrt(MSE)\n",
        "print('RMSE=',RMSE)\n",
        "MAE= mean_absolute_error(y_train, y_pred)\n",
        "print('MAE=',MAE)\n",
        "\n",
        "R2=1-MSE/np.var(y_train)\n",
        "print(\"R2:\", R2)"
      ]
    },
    {
      "cell_type": "code",
      "execution_count": 48,
      "metadata": {},
      "outputs": [
        {
          "data": {
            "text/plain": [
              "array([0.0024086 , 0.00492952, 0.00267461, ..., 0.00069261, 0.00539207,\n",
              "       0.00179121])"
            ]
          },
          "execution_count": 48,
          "metadata": {},
          "output_type": "execute_result"
        }
      ],
      "source": [
        "ytrain = []\n",
        "for value in y_train:\n",
        "    ytrain.append(value)\n",
        "count=0\n",
        "errvalue=abs((ytrain-y_pred)/ytrain)\n",
        "errvalue"
      ]
    },
    {
      "cell_type": "code",
      "execution_count": 49,
      "metadata": {},
      "outputs": [
        {
          "name": "stdout",
          "output_type": "stream",
          "text": [
            "通過門檻筆數 902212\n",
            "通過門檻百分比 0.9648283982158077\n"
          ]
        }
      ],
      "source": [
        "threshold=0.02  #門檻值\n",
        "for i in range(len(errvalue)):\n",
        "  if errvalue[i]<0.02:           \n",
        "    count=count+1\n",
        "print(\"通過門檻筆數\",count)\n",
        "print(\"通過門檻百分比\",count/len(errvalue))"
      ]
    },
    {
      "cell_type": "markdown",
      "metadata": {
        "id": "wxpNa4_A8GDf"
      },
      "source": [
        "## **測試結果**"
      ]
    },
    {
      "cell_type": "code",
      "execution_count": 50,
      "metadata": {
        "colab": {
          "base_uri": "https://localhost:8080/"
        },
        "id": "HhWX57yl9S6O",
        "outputId": "9de55173-514f-4cd6-e23a-2c0e718182b7"
      },
      "outputs": [
        {
          "data": {
            "text/plain": [
              "array([0.20288241, 0.20378839, 0.20401545, ..., 0.20277667, 0.20434175,\n",
              "       0.20398785])"
            ]
          },
          "execution_count": 50,
          "metadata": {},
          "output_type": "execute_result"
        }
      ],
      "source": [
        "y_pred=knnr.predict(X_test)\n",
        "y_pred"
      ]
    },
    {
      "cell_type": "code",
      "execution_count": 51,
      "metadata": {
        "colab": {
          "base_uri": "https://localhost:8080/"
        },
        "id": "QrpDRwWBVdHA",
        "outputId": "61bd8509-dbbc-4363-a440-3b91417cc8e8"
      },
      "outputs": [
        {
          "name": "stdout",
          "output_type": "stream",
          "text": [
            "MSE= 4.8461133228417965e-06\n",
            "RMSE= 0.0022013889531025174\n",
            "MAE= 0.0012479920124554087\n",
            "R2: 0.5438528500360541\n"
          ]
        }
      ],
      "source": [
        "from sklearn.metrics import mean_squared_error\n",
        "from sklearn.metrics import mean_absolute_error\n",
        "from math import sqrt\n",
        "import numpy as np\n",
        "\n",
        "MSE = mean_squared_error(y_test, y_pred)\n",
        "print('MSE=',MSE)\n",
        "RMSE =np.sqrt(MSE)\n",
        "print('RMSE=',RMSE)\n",
        "MAE= mean_absolute_error(y_test, y_pred)\n",
        "print('MAE=',MAE)\n",
        "\n",
        "R2=1-MSE/np.var(y_test)\n",
        "print(\"R2:\", R2)\n"
      ]
    },
    {
      "cell_type": "code",
      "execution_count": 52,
      "metadata": {
        "colab": {
          "base_uri": "https://localhost:8080/"
        },
        "id": "2EUqN6AoOeQC",
        "outputId": "45bd98c0-457c-4a51-cc90-1089aea4b4d0"
      },
      "outputs": [
        {
          "data": {
            "text/plain": [
              "array([0.00241879, 0.00502531, 0.00436269, ..., 0.00181605, 0.00057504,\n",
              "       0.00507801])"
            ]
          },
          "execution_count": 52,
          "metadata": {},
          "output_type": "execute_result"
        }
      ],
      "source": [
        "ytest = []\n",
        "for value in y_test:\n",
        "    ytest.append(value)\n",
        "count=0\n",
        "errvalue=abs((ytest-y_pred)/ytest)\n",
        "errvalue"
      ]
    },
    {
      "cell_type": "code",
      "execution_count": 53,
      "metadata": {
        "colab": {
          "base_uri": "https://localhost:8080/"
        },
        "id": "DjuOp3AlPdpP",
        "outputId": "f49bd54d-b52b-468f-e685-ae82bc4ad2e2"
      },
      "outputs": [
        {
          "name": "stdout",
          "output_type": "stream",
          "text": [
            "通過門檻筆數 443876\n",
            "通過門檻百分比 0.9637473321275889\n"
          ]
        }
      ],
      "source": [
        "threshold=0.02  #門檻值\n",
        "for i in range(len(errvalue)):\n",
        "  if errvalue[i]<0.02:           \n",
        "    count=count+1\n",
        "print(\"通過門檻筆數\",count)\n",
        "print(\"通過門檻百分比\",count/len(errvalue))"
      ]
    },
    {
      "cell_type": "markdown",
      "metadata": {
        "id": "LHuwuClb3s2T"
      },
      "source": [
        "# **Bayesian Regression**"
      ]
    },
    {
      "cell_type": "code",
      "execution_count": 107,
      "metadata": {
        "id": "7_cC_e9d3zaK"
      },
      "outputs": [],
      "source": [
        "from sklearn import linear_model\n",
        "from sklearn.linear_model import BayesianRidge, LinearRegression\n",
        "\n",
        "bayr = linear_model.BayesianRidge()"
      ]
    },
    {
      "cell_type": "markdown",
      "metadata": {
        "id": "FmoibOJF39P6"
      },
      "source": [
        "## **模式執行與評估**"
      ]
    },
    {
      "cell_type": "code",
      "execution_count": 108,
      "metadata": {
        "id": "5GoHr5tRG7MC"
      },
      "outputs": [],
      "source": [
        "bayr.fit(X_train, y_train)\n",
        "y_pred=bayr.predict(X_train)"
      ]
    },
    {
      "cell_type": "code",
      "execution_count": 109,
      "metadata": {
        "colab": {
          "base_uri": "https://localhost:8080/"
        },
        "id": "UwZG73CZG7MM",
        "outputId": "cc3497fb-271e-4571-ce47-550638b6cff9"
      },
      "outputs": [
        {
          "name": "stdout",
          "output_type": "stream",
          "text": [
            "MSE= 5.2255587e-06\n",
            "RMSE= 0.002285948\n",
            "MAE= 0.0010523704\n",
            "R2: 0.49228012561798096\n"
          ]
        }
      ],
      "source": [
        "from sklearn.metrics import mean_squared_error\n",
        "from sklearn.metrics import mean_absolute_error\n",
        "from math import sqrt\n",
        "import numpy as np\n",
        "\n",
        "MSE = mean_squared_error(y_train, y_pred)\n",
        "print('MSE=',MSE)\n",
        "RMSE =np.sqrt(MSE)\n",
        "print('RMSE=',RMSE)\n",
        "MAE= mean_absolute_error(y_train, y_pred)\n",
        "print('MAE=',MAE)\n",
        "\n",
        "R2=1-MSE/np.var(y_train)\n",
        "print(\"R2:\", R2)"
      ]
    },
    {
      "cell_type": "markdown",
      "metadata": {
        "id": "sqcSqzfgG7MN"
      },
      "source": [
        "## **測試結果**"
      ]
    },
    {
      "cell_type": "code",
      "execution_count": 110,
      "metadata": {
        "colab": {
          "base_uri": "https://localhost:8080/"
        },
        "id": "SuMsPL1gG7MN",
        "outputId": "fd3f492e-4028-44c3-db71-ac8805f649a0"
      },
      "outputs": [
        {
          "data": {
            "text/plain": [
              "array([0.20226273, 0.20257483, 0.20329805, ..., 0.20366104, 0.20360649,\n",
              "       0.20330239])"
            ]
          },
          "execution_count": 110,
          "metadata": {},
          "output_type": "execute_result"
        }
      ],
      "source": [
        "y_pred=knnr.predict(X_test)\n",
        "y_pred"
      ]
    },
    {
      "cell_type": "code",
      "execution_count": 111,
      "metadata": {
        "colab": {
          "base_uri": "https://localhost:8080/"
        },
        "id": "jdImny_9G7MP",
        "outputId": "097b6603-d800-483f-b27f-28904f4f530b"
      },
      "outputs": [
        {
          "name": "stdout",
          "output_type": "stream",
          "text": [
            "MSE= 3.6026948556815446e-06\n",
            "RMSE= 0.0018980766200766355\n",
            "MAE= 0.0007841980509252651\n",
            "R2: 0.6608913409302554\n"
          ]
        }
      ],
      "source": [
        "from sklearn.metrics import mean_squared_error\n",
        "from sklearn.metrics import mean_absolute_error\n",
        "from math import sqrt\n",
        "import numpy as np\n",
        "\n",
        "MSE = mean_squared_error(y_test, y_pred)\n",
        "print('MSE=',MSE)\n",
        "RMSE =np.sqrt(MSE)\n",
        "print('RMSE=',RMSE)\n",
        "MAE= mean_absolute_error(y_test, y_pred)\n",
        "print('MAE=',MAE)\n",
        "\n",
        "R2=1-MSE/np.var(y_test)\n",
        "print(\"R2:\", R2)\n"
      ]
    },
    {
      "cell_type": "code",
      "execution_count": 112,
      "metadata": {
        "colab": {
          "base_uri": "https://localhost:8080/"
        },
        "id": "iJdEamELG7MQ",
        "outputId": "192dd252-a7d6-4878-f277-927b3630eb99"
      },
      "outputs": [
        {
          "data": {
            "text/plain": [
              "array([0.00064296, 0.00095965, 0.00083096, ..., 0.00253732, 0.00417119,\n",
              "       0.00170067])"
            ]
          },
          "execution_count": 112,
          "metadata": {},
          "output_type": "execute_result"
        }
      ],
      "source": [
        "ytest = []\n",
        "for value in y_test:\n",
        "    ytest.append(value)\n",
        "count=0\n",
        "errvalue=abs((ytest-y_pred)/ytest)\n",
        "errvalue"
      ]
    },
    {
      "cell_type": "code",
      "execution_count": 113,
      "metadata": {
        "colab": {
          "base_uri": "https://localhost:8080/"
        },
        "id": "Ew7LlDtRCfv9",
        "outputId": "de295525-871e-46dd-f6e8-11be54428fa4"
      },
      "outputs": [
        {
          "name": "stdout",
          "output_type": "stream",
          "text": [
            "通過門檻筆數 429051\n",
            "通過門檻百分比 0.9315591665164914\n"
          ]
        }
      ],
      "source": [
        "threshold=0.01  #門檻值\n",
        "for i in range(len(errvalue)):\n",
        "  if errvalue[i]<0.01:           \n",
        "    count=count+1\n",
        "print(\"通過門檻筆數\",count)\n",
        "print(\"通過門檻百分比\",count/len(errvalue))"
      ]
    },
    {
      "cell_type": "markdown",
      "metadata": {
        "id": "TpQJjurjIZwI"
      },
      "source": [
        "# **Gaussian process regression (GPR).**"
      ]
    },
    {
      "cell_type": "code",
      "execution_count": 114,
      "metadata": {
        "id": "yqE6YX6RIbBG"
      },
      "outputs": [],
      "source": [
        "from sklearn.gaussian_process import GaussianProcessRegressor\n",
        "from sklearn.gaussian_process.kernels import DotProduct, WhiteKernel"
      ]
    },
    {
      "cell_type": "code",
      "execution_count": 115,
      "metadata": {
        "id": "Z70akCllIhsL"
      },
      "outputs": [],
      "source": [
        "kernel = DotProduct() + WhiteKernel()\n",
        "gpr = GaussianProcessRegressor(kernel=kernel,random_state=0)"
      ]
    },
    {
      "cell_type": "markdown",
      "metadata": {
        "id": "mC1P9DMjI6jM"
      },
      "source": [
        "## **模式執行與評估**"
      ]
    },
    {
      "cell_type": "code",
      "execution_count": 116,
      "metadata": {
        "colab": {
          "base_uri": "https://localhost:8080/",
          "height": 184
        },
        "id": "xdK5Rr28I6jN",
        "outputId": "d67d0bb8-1a92-4290-e911-a218e59e4324"
      },
      "outputs": [
        {
          "ename": "MemoryError",
          "evalue": "Unable to allocate 3.18 TiB for an array with shape (935101, 935101) and data type float32",
          "output_type": "error",
          "traceback": [
            "\u001b[1;31m---------------------------------------------------------------------------\u001b[0m",
            "\u001b[1;31mMemoryError\u001b[0m                               Traceback (most recent call last)",
            "Cell \u001b[1;32mIn [116], line 1\u001b[0m\n\u001b[1;32m----> 1\u001b[0m gpr\u001b[39m.\u001b[39;49mfit(X_train, y_train)\n\u001b[0;32m      2\u001b[0m y_pred\u001b[39m=\u001b[39mgpr\u001b[39m.\u001b[39mpredict(X_train)\n",
            "File \u001b[1;32mc:\\Users\\RickyLuo\\AppData\\Local\\Programs\\Python\\Python38\\lib\\site-packages\\sklearn\\gaussian_process\\_gpr.py:286\u001b[0m, in \u001b[0;36mGaussianProcessRegressor.fit\u001b[1;34m(self, X, y)\u001b[0m\n\u001b[0;32m    281\u001b[0m         \u001b[39mreturn\u001b[39;00m \u001b[39m-\u001b[39m\u001b[39mself\u001b[39m\u001b[39m.\u001b[39mlog_marginal_likelihood(theta, clone_kernel\u001b[39m=\u001b[39m\u001b[39mFalse\u001b[39;00m)\n\u001b[0;32m    283\u001b[0m \u001b[39m# First optimize starting from theta specified in kernel\u001b[39;00m\n\u001b[0;32m    284\u001b[0m optima \u001b[39m=\u001b[39m [\n\u001b[0;32m    285\u001b[0m     (\n\u001b[1;32m--> 286\u001b[0m         \u001b[39mself\u001b[39;49m\u001b[39m.\u001b[39;49m_constrained_optimization(\n\u001b[0;32m    287\u001b[0m             obj_func, \u001b[39mself\u001b[39;49m\u001b[39m.\u001b[39;49mkernel_\u001b[39m.\u001b[39;49mtheta, \u001b[39mself\u001b[39;49m\u001b[39m.\u001b[39;49mkernel_\u001b[39m.\u001b[39;49mbounds\n\u001b[0;32m    288\u001b[0m         )\n\u001b[0;32m    289\u001b[0m     )\n\u001b[0;32m    290\u001b[0m ]\n\u001b[0;32m    292\u001b[0m \u001b[39m# Additional runs are performed from log-uniform chosen initial\u001b[39;00m\n\u001b[0;32m    293\u001b[0m \u001b[39m# theta\u001b[39;00m\n\u001b[0;32m    294\u001b[0m \u001b[39mif\u001b[39;00m \u001b[39mself\u001b[39m\u001b[39m.\u001b[39mn_restarts_optimizer \u001b[39m>\u001b[39m \u001b[39m0\u001b[39m:\n",
            "File \u001b[1;32mc:\\Users\\RickyLuo\\AppData\\Local\\Programs\\Python\\Python38\\lib\\site-packages\\sklearn\\gaussian_process\\_gpr.py:622\u001b[0m, in \u001b[0;36mGaussianProcessRegressor._constrained_optimization\u001b[1;34m(self, obj_func, initial_theta, bounds)\u001b[0m\n\u001b[0;32m    620\u001b[0m \u001b[39mdef\u001b[39;00m \u001b[39m_constrained_optimization\u001b[39m(\u001b[39mself\u001b[39m, obj_func, initial_theta, bounds):\n\u001b[0;32m    621\u001b[0m     \u001b[39mif\u001b[39;00m \u001b[39mself\u001b[39m\u001b[39m.\u001b[39moptimizer \u001b[39m==\u001b[39m \u001b[39m\"\u001b[39m\u001b[39mfmin_l_bfgs_b\u001b[39m\u001b[39m\"\u001b[39m:\n\u001b[1;32m--> 622\u001b[0m         opt_res \u001b[39m=\u001b[39m scipy\u001b[39m.\u001b[39;49moptimize\u001b[39m.\u001b[39;49mminimize(\n\u001b[0;32m    623\u001b[0m             obj_func,\n\u001b[0;32m    624\u001b[0m             initial_theta,\n\u001b[0;32m    625\u001b[0m             method\u001b[39m=\u001b[39;49m\u001b[39m\"\u001b[39;49m\u001b[39mL-BFGS-B\u001b[39;49m\u001b[39m\"\u001b[39;49m,\n\u001b[0;32m    626\u001b[0m             jac\u001b[39m=\u001b[39;49m\u001b[39mTrue\u001b[39;49;00m,\n\u001b[0;32m    627\u001b[0m             bounds\u001b[39m=\u001b[39;49mbounds,\n\u001b[0;32m    628\u001b[0m         )\n\u001b[0;32m    629\u001b[0m         _check_optimize_result(\u001b[39m\"\u001b[39m\u001b[39mlbfgs\u001b[39m\u001b[39m\"\u001b[39m, opt_res)\n\u001b[0;32m    630\u001b[0m         theta_opt, func_min \u001b[39m=\u001b[39m opt_res\u001b[39m.\u001b[39mx, opt_res\u001b[39m.\u001b[39mfun\n",
            "File \u001b[1;32mc:\\Users\\RickyLuo\\AppData\\Local\\Programs\\Python\\Python38\\lib\\site-packages\\scipy\\optimize\\_minimize.py:699\u001b[0m, in \u001b[0;36mminimize\u001b[1;34m(fun, x0, args, method, jac, hess, hessp, bounds, constraints, tol, callback, options)\u001b[0m\n\u001b[0;32m    696\u001b[0m     res \u001b[39m=\u001b[39m _minimize_newtoncg(fun, x0, args, jac, hess, hessp, callback,\n\u001b[0;32m    697\u001b[0m                              \u001b[39m*\u001b[39m\u001b[39m*\u001b[39moptions)\n\u001b[0;32m    698\u001b[0m \u001b[39melif\u001b[39;00m meth \u001b[39m==\u001b[39m \u001b[39m'\u001b[39m\u001b[39ml-bfgs-b\u001b[39m\u001b[39m'\u001b[39m:\n\u001b[1;32m--> 699\u001b[0m     res \u001b[39m=\u001b[39m _minimize_lbfgsb(fun, x0, args, jac, bounds,\n\u001b[0;32m    700\u001b[0m                            callback\u001b[39m=\u001b[39;49mcallback, \u001b[39m*\u001b[39;49m\u001b[39m*\u001b[39;49moptions)\n\u001b[0;32m    701\u001b[0m \u001b[39melif\u001b[39;00m meth \u001b[39m==\u001b[39m \u001b[39m'\u001b[39m\u001b[39mtnc\u001b[39m\u001b[39m'\u001b[39m:\n\u001b[0;32m    702\u001b[0m     res \u001b[39m=\u001b[39m _minimize_tnc(fun, x0, args, jac, bounds, callback\u001b[39m=\u001b[39mcallback,\n\u001b[0;32m    703\u001b[0m                         \u001b[39m*\u001b[39m\u001b[39m*\u001b[39moptions)\n",
            "File \u001b[1;32mc:\\Users\\RickyLuo\\AppData\\Local\\Programs\\Python\\Python38\\lib\\site-packages\\scipy\\optimize\\_lbfgsb_py.py:306\u001b[0m, in \u001b[0;36m_minimize_lbfgsb\u001b[1;34m(fun, x0, args, jac, bounds, disp, maxcor, ftol, gtol, eps, maxfun, maxiter, iprint, callback, maxls, finite_diff_rel_step, **unknown_options)\u001b[0m\n\u001b[0;32m    303\u001b[0m     \u001b[39melse\u001b[39;00m:\n\u001b[0;32m    304\u001b[0m         iprint \u001b[39m=\u001b[39m disp\n\u001b[1;32m--> 306\u001b[0m sf \u001b[39m=\u001b[39m _prepare_scalar_function(fun, x0, jac\u001b[39m=\u001b[39;49mjac, args\u001b[39m=\u001b[39;49margs, epsilon\u001b[39m=\u001b[39;49meps,\n\u001b[0;32m    307\u001b[0m                               bounds\u001b[39m=\u001b[39;49mnew_bounds,\n\u001b[0;32m    308\u001b[0m                               finite_diff_rel_step\u001b[39m=\u001b[39;49mfinite_diff_rel_step)\n\u001b[0;32m    310\u001b[0m func_and_grad \u001b[39m=\u001b[39m sf\u001b[39m.\u001b[39mfun_and_grad\n\u001b[0;32m    312\u001b[0m fortran_int \u001b[39m=\u001b[39m _lbfgsb\u001b[39m.\u001b[39mtypes\u001b[39m.\u001b[39mintvar\u001b[39m.\u001b[39mdtype\n",
            "File \u001b[1;32mc:\\Users\\RickyLuo\\AppData\\Local\\Programs\\Python\\Python38\\lib\\site-packages\\scipy\\optimize\\_optimize.py:263\u001b[0m, in \u001b[0;36m_prepare_scalar_function\u001b[1;34m(fun, x0, jac, args, bounds, epsilon, finite_diff_rel_step, hess)\u001b[0m\n\u001b[0;32m    259\u001b[0m     bounds \u001b[39m=\u001b[39m (\u001b[39m-\u001b[39mnp\u001b[39m.\u001b[39minf, np\u001b[39m.\u001b[39minf)\n\u001b[0;32m    261\u001b[0m \u001b[39m# ScalarFunction caches. Reuse of fun(x) during grad\u001b[39;00m\n\u001b[0;32m    262\u001b[0m \u001b[39m# calculation reduces overall function evaluations.\u001b[39;00m\n\u001b[1;32m--> 263\u001b[0m sf \u001b[39m=\u001b[39m ScalarFunction(fun, x0, args, grad, hess,\n\u001b[0;32m    264\u001b[0m                     finite_diff_rel_step, bounds, epsilon\u001b[39m=\u001b[39;49mepsilon)\n\u001b[0;32m    266\u001b[0m \u001b[39mreturn\u001b[39;00m sf\n",
            "File \u001b[1;32mc:\\Users\\RickyLuo\\AppData\\Local\\Programs\\Python\\Python38\\lib\\site-packages\\scipy\\optimize\\_differentiable_functions.py:158\u001b[0m, in \u001b[0;36mScalarFunction.__init__\u001b[1;34m(self, fun, x0, args, grad, hess, finite_diff_rel_step, finite_diff_bounds, epsilon)\u001b[0m\n\u001b[0;32m    155\u001b[0m     \u001b[39mself\u001b[39m\u001b[39m.\u001b[39mf \u001b[39m=\u001b[39m fun_wrapped(\u001b[39mself\u001b[39m\u001b[39m.\u001b[39mx)\n\u001b[0;32m    157\u001b[0m \u001b[39mself\u001b[39m\u001b[39m.\u001b[39m_update_fun_impl \u001b[39m=\u001b[39m update_fun\n\u001b[1;32m--> 158\u001b[0m \u001b[39mself\u001b[39;49m\u001b[39m.\u001b[39;49m_update_fun()\n\u001b[0;32m    160\u001b[0m \u001b[39m# Gradient evaluation\u001b[39;00m\n\u001b[0;32m    161\u001b[0m \u001b[39mif\u001b[39;00m callable(grad):\n",
            "File \u001b[1;32mc:\\Users\\RickyLuo\\AppData\\Local\\Programs\\Python\\Python38\\lib\\site-packages\\scipy\\optimize\\_differentiable_functions.py:251\u001b[0m, in \u001b[0;36mScalarFunction._update_fun\u001b[1;34m(self)\u001b[0m\n\u001b[0;32m    249\u001b[0m \u001b[39mdef\u001b[39;00m \u001b[39m_update_fun\u001b[39m(\u001b[39mself\u001b[39m):\n\u001b[0;32m    250\u001b[0m     \u001b[39mif\u001b[39;00m \u001b[39mnot\u001b[39;00m \u001b[39mself\u001b[39m\u001b[39m.\u001b[39mf_updated:\n\u001b[1;32m--> 251\u001b[0m         \u001b[39mself\u001b[39;49m\u001b[39m.\u001b[39;49m_update_fun_impl()\n\u001b[0;32m    252\u001b[0m         \u001b[39mself\u001b[39m\u001b[39m.\u001b[39mf_updated \u001b[39m=\u001b[39m \u001b[39mTrue\u001b[39;00m\n",
            "File \u001b[1;32mc:\\Users\\RickyLuo\\AppData\\Local\\Programs\\Python\\Python38\\lib\\site-packages\\scipy\\optimize\\_differentiable_functions.py:155\u001b[0m, in \u001b[0;36mScalarFunction.__init__.<locals>.update_fun\u001b[1;34m()\u001b[0m\n\u001b[0;32m    154\u001b[0m \u001b[39mdef\u001b[39;00m \u001b[39mupdate_fun\u001b[39m():\n\u001b[1;32m--> 155\u001b[0m     \u001b[39mself\u001b[39m\u001b[39m.\u001b[39mf \u001b[39m=\u001b[39m fun_wrapped(\u001b[39mself\u001b[39;49m\u001b[39m.\u001b[39;49mx)\n",
            "File \u001b[1;32mc:\\Users\\RickyLuo\\AppData\\Local\\Programs\\Python\\Python38\\lib\\site-packages\\scipy\\optimize\\_differentiable_functions.py:137\u001b[0m, in \u001b[0;36mScalarFunction.__init__.<locals>.fun_wrapped\u001b[1;34m(x)\u001b[0m\n\u001b[0;32m    133\u001b[0m \u001b[39mself\u001b[39m\u001b[39m.\u001b[39mnfev \u001b[39m+\u001b[39m\u001b[39m=\u001b[39m \u001b[39m1\u001b[39m\n\u001b[0;32m    134\u001b[0m \u001b[39m# Send a copy because the user may overwrite it.\u001b[39;00m\n\u001b[0;32m    135\u001b[0m \u001b[39m# Overwriting results in undefined behaviour because\u001b[39;00m\n\u001b[0;32m    136\u001b[0m \u001b[39m# fun(self.x) will change self.x, with the two no longer linked.\u001b[39;00m\n\u001b[1;32m--> 137\u001b[0m fx \u001b[39m=\u001b[39m fun(np\u001b[39m.\u001b[39;49mcopy(x), \u001b[39m*\u001b[39;49margs)\n\u001b[0;32m    138\u001b[0m \u001b[39m# Make sure the function returns a true scalar\u001b[39;00m\n\u001b[0;32m    139\u001b[0m \u001b[39mif\u001b[39;00m \u001b[39mnot\u001b[39;00m np\u001b[39m.\u001b[39misscalar(fx):\n",
            "File \u001b[1;32mc:\\Users\\RickyLuo\\AppData\\Local\\Programs\\Python\\Python38\\lib\\site-packages\\scipy\\optimize\\_optimize.py:76\u001b[0m, in \u001b[0;36mMemoizeJac.__call__\u001b[1;34m(self, x, *args)\u001b[0m\n\u001b[0;32m     74\u001b[0m \u001b[39mdef\u001b[39;00m \u001b[39m__call__\u001b[39m(\u001b[39mself\u001b[39m, x, \u001b[39m*\u001b[39margs):\n\u001b[0;32m     75\u001b[0m     \u001b[39m\"\"\" returns the the function value \"\"\"\u001b[39;00m\n\u001b[1;32m---> 76\u001b[0m     \u001b[39mself\u001b[39;49m\u001b[39m.\u001b[39;49m_compute_if_needed(x, \u001b[39m*\u001b[39;49margs)\n\u001b[0;32m     77\u001b[0m     \u001b[39mreturn\u001b[39;00m \u001b[39mself\u001b[39m\u001b[39m.\u001b[39m_value\n",
            "File \u001b[1;32mc:\\Users\\RickyLuo\\AppData\\Local\\Programs\\Python\\Python38\\lib\\site-packages\\scipy\\optimize\\_optimize.py:70\u001b[0m, in \u001b[0;36mMemoizeJac._compute_if_needed\u001b[1;34m(self, x, *args)\u001b[0m\n\u001b[0;32m     68\u001b[0m \u001b[39mif\u001b[39;00m \u001b[39mnot\u001b[39;00m np\u001b[39m.\u001b[39mall(x \u001b[39m==\u001b[39m \u001b[39mself\u001b[39m\u001b[39m.\u001b[39mx) \u001b[39mor\u001b[39;00m \u001b[39mself\u001b[39m\u001b[39m.\u001b[39m_value \u001b[39mis\u001b[39;00m \u001b[39mNone\u001b[39;00m \u001b[39mor\u001b[39;00m \u001b[39mself\u001b[39m\u001b[39m.\u001b[39mjac \u001b[39mis\u001b[39;00m \u001b[39mNone\u001b[39;00m:\n\u001b[0;32m     69\u001b[0m     \u001b[39mself\u001b[39m\u001b[39m.\u001b[39mx \u001b[39m=\u001b[39m np\u001b[39m.\u001b[39masarray(x)\u001b[39m.\u001b[39mcopy()\n\u001b[1;32m---> 70\u001b[0m     fg \u001b[39m=\u001b[39m \u001b[39mself\u001b[39;49m\u001b[39m.\u001b[39;49mfun(x, \u001b[39m*\u001b[39;49margs)\n\u001b[0;32m     71\u001b[0m     \u001b[39mself\u001b[39m\u001b[39m.\u001b[39mjac \u001b[39m=\u001b[39m fg[\u001b[39m1\u001b[39m]\n\u001b[0;32m     72\u001b[0m     \u001b[39mself\u001b[39m\u001b[39m.\u001b[39m_value \u001b[39m=\u001b[39m fg[\u001b[39m0\u001b[39m]\n",
            "File \u001b[1;32mc:\\Users\\RickyLuo\\AppData\\Local\\Programs\\Python\\Python38\\lib\\site-packages\\sklearn\\gaussian_process\\_gpr.py:276\u001b[0m, in \u001b[0;36mGaussianProcessRegressor.fit.<locals>.obj_func\u001b[1;34m(theta, eval_gradient)\u001b[0m\n\u001b[0;32m    274\u001b[0m \u001b[39mdef\u001b[39;00m \u001b[39mobj_func\u001b[39m(theta, eval_gradient\u001b[39m=\u001b[39m\u001b[39mTrue\u001b[39;00m):\n\u001b[0;32m    275\u001b[0m     \u001b[39mif\u001b[39;00m eval_gradient:\n\u001b[1;32m--> 276\u001b[0m         lml, grad \u001b[39m=\u001b[39m \u001b[39mself\u001b[39;49m\u001b[39m.\u001b[39;49mlog_marginal_likelihood(\n\u001b[0;32m    277\u001b[0m             theta, eval_gradient\u001b[39m=\u001b[39;49m\u001b[39mTrue\u001b[39;49;00m, clone_kernel\u001b[39m=\u001b[39;49m\u001b[39mFalse\u001b[39;49;00m\n\u001b[0;32m    278\u001b[0m         )\n\u001b[0;32m    279\u001b[0m         \u001b[39mreturn\u001b[39;00m \u001b[39m-\u001b[39mlml, \u001b[39m-\u001b[39mgrad\n\u001b[0;32m    280\u001b[0m     \u001b[39melse\u001b[39;00m:\n",
            "File \u001b[1;32mc:\\Users\\RickyLuo\\AppData\\Local\\Programs\\Python\\Python38\\lib\\site-packages\\sklearn\\gaussian_process\\_gpr.py:546\u001b[0m, in \u001b[0;36mGaussianProcessRegressor.log_marginal_likelihood\u001b[1;34m(self, theta, eval_gradient, clone_kernel)\u001b[0m\n\u001b[0;32m    543\u001b[0m     kernel\u001b[39m.\u001b[39mtheta \u001b[39m=\u001b[39m theta\n\u001b[0;32m    545\u001b[0m \u001b[39mif\u001b[39;00m eval_gradient:\n\u001b[1;32m--> 546\u001b[0m     K, K_gradient \u001b[39m=\u001b[39m kernel(\u001b[39mself\u001b[39;49m\u001b[39m.\u001b[39;49mX_train_, eval_gradient\u001b[39m=\u001b[39;49m\u001b[39mTrue\u001b[39;49;00m)\n\u001b[0;32m    547\u001b[0m \u001b[39melse\u001b[39;00m:\n\u001b[0;32m    548\u001b[0m     K \u001b[39m=\u001b[39m kernel(\u001b[39mself\u001b[39m\u001b[39m.\u001b[39mX_train_)\n",
            "File \u001b[1;32mc:\\Users\\RickyLuo\\AppData\\Local\\Programs\\Python\\Python38\\lib\\site-packages\\sklearn\\gaussian_process\\kernels.py:842\u001b[0m, in \u001b[0;36mSum.__call__\u001b[1;34m(self, X, Y, eval_gradient)\u001b[0m\n\u001b[0;32m    814\u001b[0m \u001b[39m\"\"\"Return the kernel k(X, Y) and optionally its gradient.\u001b[39;00m\n\u001b[0;32m    815\u001b[0m \n\u001b[0;32m    816\u001b[0m \u001b[39mParameters\u001b[39;00m\n\u001b[1;32m   (...)\u001b[0m\n\u001b[0;32m    839\u001b[0m \u001b[39m    is True.\u001b[39;00m\n\u001b[0;32m    840\u001b[0m \u001b[39m\"\"\"\u001b[39;00m\n\u001b[0;32m    841\u001b[0m \u001b[39mif\u001b[39;00m eval_gradient:\n\u001b[1;32m--> 842\u001b[0m     K1, K1_gradient \u001b[39m=\u001b[39m \u001b[39mself\u001b[39;49m\u001b[39m.\u001b[39;49mk1(X, Y, eval_gradient\u001b[39m=\u001b[39;49m\u001b[39mTrue\u001b[39;49;00m)\n\u001b[0;32m    843\u001b[0m     K2, K2_gradient \u001b[39m=\u001b[39m \u001b[39mself\u001b[39m\u001b[39m.\u001b[39mk2(X, Y, eval_gradient\u001b[39m=\u001b[39m\u001b[39mTrue\u001b[39;00m)\n\u001b[0;32m    844\u001b[0m     \u001b[39mreturn\u001b[39;00m K1 \u001b[39m+\u001b[39m K2, np\u001b[39m.\u001b[39mdstack((K1_gradient, K2_gradient))\n",
            "File \u001b[1;32mc:\\Users\\RickyLuo\\AppData\\Local\\Programs\\Python\\Python38\\lib\\site-packages\\sklearn\\gaussian_process\\kernels.py:2174\u001b[0m, in \u001b[0;36mDotProduct.__call__\u001b[1;34m(self, X, Y, eval_gradient)\u001b[0m\n\u001b[0;32m   2172\u001b[0m X \u001b[39m=\u001b[39m np\u001b[39m.\u001b[39matleast_2d(X)\n\u001b[0;32m   2173\u001b[0m \u001b[39mif\u001b[39;00m Y \u001b[39mis\u001b[39;00m \u001b[39mNone\u001b[39;00m:\n\u001b[1;32m-> 2174\u001b[0m     K \u001b[39m=\u001b[39m np\u001b[39m.\u001b[39;49minner(X, X) \u001b[39m+\u001b[39m \u001b[39mself\u001b[39m\u001b[39m.\u001b[39msigma_0\u001b[39m*\u001b[39m\u001b[39m*\u001b[39m\u001b[39m2\u001b[39m\n\u001b[0;32m   2175\u001b[0m \u001b[39melse\u001b[39;00m:\n\u001b[0;32m   2176\u001b[0m     \u001b[39mif\u001b[39;00m eval_gradient:\n",
            "File \u001b[1;32m<__array_function__ internals>:180\u001b[0m, in \u001b[0;36minner\u001b[1;34m(*args, **kwargs)\u001b[0m\n",
            "\u001b[1;31mMemoryError\u001b[0m: Unable to allocate 3.18 TiB for an array with shape (935101, 935101) and data type float32"
          ]
        }
      ],
      "source": [
        "gpr.fit(X_train, y_train)\n",
        "y_pred=gpr.predict(X_train)"
      ]
    },
    {
      "cell_type": "code",
      "execution_count": null,
      "metadata": {
        "colab": {
          "base_uri": "https://localhost:8080/"
        },
        "id": "gqjHemVAI6jN",
        "outputId": "dd0850dc-bc5f-4ec7-b7bd-3313ca445bef"
      },
      "outputs": [
        {
          "name": "stdout",
          "output_type": "stream",
          "text": [
            "MSE= 0.0033855296811270436\n",
            "RMSE= 0.05818530468363162\n",
            "MAE= 0.039989494844724915\n",
            "R2: 0.7394646909452571\n"
          ]
        }
      ],
      "source": [
        "from sklearn.metrics import mean_squared_error\n",
        "from sklearn.metrics import mean_absolute_error\n",
        "from math import sqrt\n",
        "import numpy as np\n",
        "\n",
        "MSE = mean_squared_error(y_train, y_pred)\n",
        "print('MSE=',MSE)\n",
        "RMSE =np.sqrt(MSE)\n",
        "print('RMSE=',RMSE)\n",
        "MAE= mean_absolute_error(y_train, y_pred)\n",
        "print('MAE=',MAE)\n",
        "\n",
        "R2=1-MSE/np.var(y_train)\n",
        "print(\"R2:\", R2)"
      ]
    },
    {
      "cell_type": "markdown",
      "metadata": {
        "id": "ITnGf1ysI6jN"
      },
      "source": [
        "## **測試結果**"
      ]
    },
    {
      "cell_type": "code",
      "execution_count": null,
      "metadata": {
        "colab": {
          "base_uri": "https://localhost:8080/"
        },
        "id": "e4mp0NXII6jN",
        "outputId": "f8aa643e-2c94-48e0-994d-edf014876bd0"
      },
      "outputs": [
        {
          "data": {
            "text/plain": [
              "array([0.65838419, 0.49823881, 0.35306502, 0.35830134, 0.54173553,\n",
              "       0.55649978, 0.63912327, 0.24612883, 0.57707902, 0.23147309,\n",
              "       0.53430205, 0.31391653, 0.35209673, 0.36699712, 0.46554889,\n",
              "       0.40233447, 0.23230763, 0.56699553, 0.50923559, 0.46109578,\n",
              "       0.29896866, 0.4077498 , 0.43180196, 0.46134433, 0.57696104,\n",
              "       0.37894443, 0.55492753, 0.38143823, 0.48574387, 0.58727256,\n",
              "       0.40136158, 0.37935635, 0.62045185, 0.7158749 , 0.53277302,\n",
              "       0.42963231, 0.34470195, 0.37579415, 0.19301478, 0.54200059,\n",
              "       0.45562652, 0.36214879, 0.58239304, 0.31783107, 0.36610982,\n",
              "       0.46983538, 0.53412582, 0.34820168, 0.48973174, 0.44269562,\n",
              "       0.55860249, 0.61333801, 0.44113607, 0.36512739, 0.53482023,\n",
              "       0.1395299 , 0.40212548, 0.35606446, 0.43759904, 0.40577223,\n",
              "       0.53289122, 0.18091743, 0.34579408, 0.40118323, 0.27237419,\n",
              "       0.45282695, 0.45499982, 0.40099262, 0.36543801, 0.39493148,\n",
              "       0.44882282, 0.41874047, 0.44071866, 0.39876413, 0.49842329,\n",
              "       0.41927301, 0.61977873, 0.25107839, 0.51364484, 0.3588039 ,\n",
              "       0.34176256, 0.38826088, 0.53280777, 0.36207033, 0.28408174,\n",
              "       0.4215648 , 0.419077  , 0.56776353, 0.43153742, 0.42240848,\n",
              "       0.30413471, 0.29269731, 0.43150741, 0.57615724, 0.21649643,\n",
              "       0.59155802, 0.24631637, 0.55456597, 0.25123951, 0.41214961,\n",
              "       0.56538431, 0.41472601, 0.49498299, 0.45851656, 0.43330647,\n",
              "       0.46892666, 0.46032601, 0.53739837, 0.62386954, 0.57068578,\n",
              "       0.44238125, 0.60909113, 0.45589663, 0.42767479, 0.53191132,\n",
              "       0.49377194, 0.52157199, 0.54905293, 0.49027657, 0.52242126,\n",
              "       0.35581246, 0.40985184, 0.42694875, 0.61113887, 0.46711595,\n",
              "       0.43909892, 0.33598656, 0.21464715, 0.33482921, 0.4525891 ,\n",
              "       0.48846623, 0.58071721, 0.45531051, 0.39900587, 0.45874763,\n",
              "       0.48235403, 0.53446684, 0.48774115, 0.58413871, 0.43686922,\n",
              "       0.30691498, 0.61255935, 0.55936161, 0.34652456, 0.46504852,\n",
              "       0.39201334, 0.39558734, 0.46161402, 0.47731407, 0.5276187 ,\n",
              "       0.35727711, 0.35318273, 0.68654457, 0.59274041, 0.42149617,\n",
              "       0.42247995, 0.44849568, 0.30715536, 0.41507911, 0.46321506,\n",
              "       0.38998442, 0.51543587, 0.68420539, 0.42728008, 0.4852293 ,\n",
              "       0.43189245, 0.38811249])"
            ]
          },
          "execution_count": 39,
          "metadata": {},
          "output_type": "execute_result"
        }
      ],
      "source": [
        "y_pred=gpr.predict(X_test)\n",
        "y_pred"
      ]
    },
    {
      "cell_type": "code",
      "execution_count": null,
      "metadata": {
        "colab": {
          "base_uri": "https://localhost:8080/"
        },
        "id": "x8dSWrVGI6jN",
        "outputId": "cf367f62-a075-4df7-c157-26735346d2dc"
      },
      "outputs": [
        {
          "name": "stdout",
          "output_type": "stream",
          "text": [
            "MSE= 0.005133644008946579\n",
            "RMSE= 0.07164945225852448\n",
            "MAE= 0.05073559878407546\n",
            "R2: 0.7212031328698609\n"
          ]
        }
      ],
      "source": [
        "from sklearn.metrics import mean_squared_error\n",
        "from sklearn.metrics import mean_absolute_error\n",
        "from math import sqrt\n",
        "import numpy as np\n",
        "\n",
        "MSE = mean_squared_error(y_test, y_pred)\n",
        "print('MSE=',MSE)\n",
        "RMSE =np.sqrt(MSE)\n",
        "print('RMSE=',RMSE)\n",
        "MAE= mean_absolute_error(y_test, y_pred)\n",
        "print('MAE=',MAE)\n",
        "\n",
        "R2=1-MSE/np.var(y_test)\n",
        "print(\"R2:\", R2)\n"
      ]
    },
    {
      "cell_type": "code",
      "execution_count": null,
      "metadata": {
        "colab": {
          "base_uri": "https://localhost:8080/"
        },
        "id": "Bu24wuHDI6jO",
        "outputId": "31fc01d0-8551-4a99-84b0-c4976a21b99a"
      },
      "outputs": [
        {
          "data": {
            "text/plain": [
              "array([1.77019770e-01, 1.91170751e-01, 2.20270753e-01, 7.92208331e-02,\n",
              "       4.16268225e-03, 9.46316362e-02, 2.01095930e-01, 2.04324877e-01,\n",
              "       1.56317240e-01, 6.15955994e-02, 1.96198569e-01, 1.04608900e-02,\n",
              "       1.25587641e-01, 3.75950205e-02, 2.25128670e-01, 2.03823649e-01,\n",
              "       1.45927895e-01, 1.04536781e-01, 5.39927820e-03, 4.47789118e-02,\n",
              "       1.65505210e-02, 3.52922707e-02, 4.78773862e-01, 1.26241795e-01,\n",
              "       8.51569155e-02, 4.94705150e-02, 6.71682482e-02, 2.17095381e-02,\n",
              "       3.92820176e-01, 1.24340255e-02, 1.22387205e-01, 8.92641955e-03,\n",
              "       1.38261360e-01, 1.05156394e-01, 1.82315393e-02, 1.15821766e-02,\n",
              "       7.27238477e-02, 1.50390198e-01, 2.13254971e-01, 4.35283706e-02,\n",
              "       3.73208705e-03, 1.12380391e-01, 1.88113768e-01, 1.08712938e-01,\n",
              "       8.16643554e-02, 4.25341305e-02, 3.51274941e-02, 6.06070292e-02,\n",
              "       8.34772386e-02, 2.27856544e-01, 9.52255987e-03, 4.42017302e-01,\n",
              "       2.07489285e-01, 9.53821276e-02, 1.02650638e-01, 5.60304961e-01,\n",
              "       7.91411824e-03, 9.47514104e-02, 1.29607050e-02, 1.35556627e-01,\n",
              "       6.83720356e-02, 4.43901332e-01, 3.08411834e-01, 3.73998810e-04,\n",
              "       1.16287669e-01, 9.43461079e-02, 2.50004564e-02, 1.09758159e-01,\n",
              "       3.11380380e-01, 3.92933777e-02, 1.52798250e-01, 2.29815753e-02,\n",
              "       2.24218441e-01, 2.42228550e-02, 7.59419620e-03, 2.28338918e-01,\n",
              "       2.25276595e-01, 2.28242636e-01, 1.74492742e-01, 5.64551823e-01,\n",
              "       1.25752459e-03, 1.28961104e-02, 1.42279629e-02, 6.91052745e-02,\n",
              "       1.95995112e-01, 6.09852635e-02, 9.80117874e-04, 1.38634496e-02,\n",
              "       6.72822892e-02, 2.13817511e-01, 7.08968169e-02, 1.42488352e-01,\n",
              "       7.53413325e-02, 5.39461494e-02, 8.24821231e-02, 2.60552480e-01,\n",
              "       2.49035479e-01, 1.81601686e-04, 2.56197550e-01, 3.63135062e-04,\n",
              "       1.68781487e-02, 3.33704562e-02, 1.49341349e-01, 4.84372349e-02,\n",
              "       9.79048961e-02, 5.93222355e-02, 2.14334628e-02, 1.12227449e-01,\n",
              "       1.46163921e-01, 2.88805536e-02, 1.28523544e-01, 2.16435066e-01,\n",
              "       1.46327031e-02, 6.91868890e-02, 6.57296017e-02, 1.57277962e-01,\n",
              "       2.03627661e-01, 5.31705717e-02, 8.78917905e-02, 1.49020340e-01,\n",
              "       1.40424534e-01, 1.73239957e-01, 3.62833684e-02, 8.10238787e-02,\n",
              "       9.61655745e-03, 2.04791297e-03, 2.05693345e-01, 2.03042743e-01,\n",
              "       8.71077317e-02, 1.62929032e-02, 1.41276232e-01, 2.99824812e-02,\n",
              "       1.19615928e-01, 1.32596011e-01, 1.35525801e-01, 3.36157042e-02,\n",
              "       1.42023037e-01, 1.43143293e-01, 2.27329792e-01, 7.78023423e-02,\n",
              "       1.62981753e-02, 1.21568806e-01, 1.11183946e-01, 8.48823249e-02,\n",
              "       2.25976691e-03, 1.66889847e-02, 2.40444061e-02, 9.13110129e-02,\n",
              "       1.66076673e-01, 1.20563305e-02, 2.56079046e-02, 2.02147481e-01,\n",
              "       1.41819304e-01, 2.59074498e-01, 1.32119215e-02, 2.50462856e-02,\n",
              "       1.17514156e-01, 1.53064268e-01, 1.19817691e-01, 7.39635707e-03,\n",
              "       5.14182563e-03, 1.04505370e-01, 1.44743271e-01, 1.24426129e-01,\n",
              "       4.57528391e-02, 6.90407657e-02, 7.21226581e-03])"
            ]
          },
          "execution_count": 41,
          "metadata": {},
          "output_type": "execute_result"
        }
      ],
      "source": [
        "ytest = []\n",
        "for value in y_test:\n",
        "    ytest.append(value)\n",
        "count=0\n",
        "errvalue=abs((ytest-y_pred)/ytest)\n",
        "errvalue"
      ]
    },
    {
      "cell_type": "code",
      "execution_count": null,
      "metadata": {
        "colab": {
          "base_uri": "https://localhost:8080/"
        },
        "id": "5IGrbh1EI6jO",
        "outputId": "7b13b38f-d1d5-440b-e33b-ab215c883050"
      },
      "outputs": [
        {
          "name": "stdout",
          "output_type": "stream",
          "text": [
            "通過門檻筆數 884760\n",
            "通過門檻百分比 1.9209984085041893\n"
          ]
        }
      ],
      "source": [
        "threshold=0.02  #門檻值\n",
        "for i in range(len(errvalue)):\n",
        "  if errvalue[i]<0.02:           \n",
        "    count=count+1\n",
        "print(\"通過門檻筆數\",count)\n",
        "print(\"通過門檻百分比\",count/len(errvalue))"
      ]
    },
    {
      "cell_type": "code",
      "execution_count": null,
      "metadata": {
        "id": "-Tg81hMcI6Lk"
      },
      "outputs": [],
      "source": []
    }
  ],
  "metadata": {
    "colab": {
      "provenance": [],
      "toc_visible": true
    },
    "kernelspec": {
      "display_name": "Python 3",
      "language": "python",
      "name": "python3"
    },
    "language_info": {
      "codemirror_mode": {
        "name": "ipython",
        "version": 3
      },
      "file_extension": ".py",
      "mimetype": "text/x-python",
      "name": "python",
      "nbconvert_exporter": "python",
      "pygments_lexer": "ipython3",
      "version": "3.8.10"
    },
    "vscode": {
      "interpreter": {
        "hash": "bb012da9786feb8d892091ab5105139c0c833a8347d3711ae24d6cd99316d82d"
      }
    }
  },
  "nbformat": 4,
  "nbformat_minor": 0
}
